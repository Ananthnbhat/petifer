{
  "nbformat": 4,
  "nbformat_minor": 0,
  "metadata": {
    "colab": {
      "provenance": [],
      "collapsed_sections": []
    },
    "kernelspec": {
      "name": "python3",
      "display_name": "Python 3"
    },
    "language_info": {
      "name": "python"
    },
    "gpuClass": "standard",
    "accelerator": "GPU"
  },
  "cells": [
    {
      "cell_type": "code",
      "source": [
        "from google.colab import drive\n",
        "drive.mount('/content/drive')"
      ],
      "metadata": {
        "id": "1Smq-4CteUAa",
        "colab": {
          "base_uri": "https://localhost:8080/"
        },
        "outputId": "59dc12ff-471f-4af0-96d3-5be3b7322cea"
      },
      "execution_count": null,
      "outputs": [
        {
          "output_type": "stream",
          "name": "stdout",
          "text": [
            "Mounted at /content/drive\n"
          ]
        }
      ]
    },
    {
      "cell_type": "code",
      "execution_count": null,
      "metadata": {
        "id": "CTy8tlZD_qhs"
      },
      "outputs": [],
      "source": [
        "import os, glob, random, time\n",
        "import tensorflow as tf\n",
        "import matplotlib.image as mpimg\n",
        "import pickle as pk\n",
        "import matplotlib.pyplot as plt\n",
        "import keras\n",
        "import numpy as np\n",
        "import pandas as pd\n",
        "\n",
        "from keras.layers import Dense, ZeroPadding2D, Activation\n",
        "from keras.layers import Conv2D, MaxPooling2D, AveragePooling2D\n",
        "from keras.layers import Input, Lambda, Flatten, concatenate\n",
        "from keras.layers import BatchNormalization\n",
        "from keras.models import Model\n",
        "from keras import backend as K\n",
        "from keras.preprocessing.image import load_img, img_to_array\n",
        "\n",
        "from sklearn import metrics\n",
        "from sklearn.decomposition import PCA\n",
        "from sklearn.svm import SVC"
      ]
    },
    {
      "cell_type": "code",
      "source": [
        "random.seed(42)\n",
        "\n",
        "train_split = 0.7\n",
        "\n",
        "same_pet = 1\n",
        "different_pet = 0"
      ],
      "metadata": {
        "id": "GrHQ1-0no-Ke"
      },
      "execution_count": null,
      "outputs": []
    },
    {
      "cell_type": "code",
      "source": [
        "local_path = '/content'\n",
        "remote_path = '/content/drive/MyDrive/Petfinding'\n",
        "\n",
        "cat_pet_type_id = 1\n",
        "dog_pet_type_id = 2\n",
        "pet_type_ids = [cat_pet_type_id, dog_pet_type_id]"
      ],
      "metadata": {
        "id": "BifzQX7r_uSM"
      },
      "execution_count": null,
      "outputs": []
    },
    {
      "cell_type": "code",
      "source": [
        "cat_images_path = local_path + '/CatFace/Images'\n",
        "dog_images_path = local_path + '/DogFace/Images'"
      ],
      "metadata": {
        "id": "PUl5zHU6MSxs"
      },
      "execution_count": null,
      "outputs": []
    },
    {
      "cell_type": "code",
      "source": [
        "!rm -R /content/CatFace\n",
        "!mkdir /content/CatFace\n",
        "!cp /content/drive/MyDrive/Petfinding/FaceVerification/CatFace.zip /content/CatFace.zip\n",
        "!unzip -q /content/CatFace.zip -d /content/CatFace\n",
        "\n",
        "!rm -R /content/DogFace\n",
        "!mkdir /content/DogFace\n",
        "!cp /content/drive/MyDrive/Petfinding/FaceVerification/DogFace.zip /content/DogFace.zip\n",
        "!unzip -q /content/DogFace.zip -d /content/DogFace"
      ],
      "metadata": {
        "id": "fatA-9hYhKHj",
        "colab": {
          "base_uri": "https://localhost:8080/"
        },
        "outputId": "04c54bad-fd58-4676-e654-f151726a499d"
      },
      "execution_count": null,
      "outputs": [
        {
          "output_type": "stream",
          "name": "stdout",
          "text": [
            "rm: cannot remove '/content/CatFace': No such file or directory\n",
            "rm: cannot remove '/content/DogFace': No such file or directory\n"
          ]
        }
      ]
    },
    {
      "cell_type": "code",
      "source": [
        "# Finds all JPG files in the folders\n",
        "def image_paths_to_image_files(image_paths):\n",
        "    image_files = []\n",
        "    for image_path in image_paths:\n",
        "        image_files += glob.glob(image_path + '/*.jpg')\n",
        "    return image_files\n",
        "\n",
        "\n",
        "# Helper function for when grouping all images by pet_id\n",
        "def image_file_to_list(df):\n",
        "    assert len(np.unique(df['pet_type_id'])) == 1 \n",
        "    image_files = list(df['image_file'].values)\n",
        "    image_files_len = len(image_files)\n",
        "    return pd.Series([df.iloc[0]['pet_type_id'], image_files_len, image_files], index=['pet_type_id', 'image_files_len', 'image_files'])\n",
        "\n",
        "\n",
        "# Group dataframe by pet_id\n",
        "def groupby_pet_id(df):\n",
        "  sample_df = df.groupby('pet_id').apply(image_file_to_list).reset_index()\n",
        "  return sample_df\n"
      ],
      "metadata": {
        "id": "NEA8Ki9Yn6de"
      },
      "execution_count": null,
      "outputs": []
    },
    {
      "cell_type": "code",
      "source": [
        "from tensorflow.keras.preprocessing import image\n",
        "from tensorflow.keras.applications.efficientnet import preprocess_input\n",
        "\n",
        "\n",
        "def create_face_features_for_image_file(efficient_net_model, image_file):\n",
        "    image_bytes = image.load_img(image_file, target_size=(260, 260))\n",
        "    image_bytes = image.img_to_array(image_bytes)\n",
        "    image_bytes = np.expand_dims(image_bytes, axis=0)\n",
        "    image_bytes = preprocess_input(image_bytes)\n",
        "    return efficient_net_model.predict(image_bytes)\n",
        "\n",
        "\n",
        "def create_face_features_for_image_files(efficient_net_model, image_files):\n",
        "    image_files_to_face_features = {}\n",
        "    for image_file in image_files:\n",
        "      image_files_to_face_features[image_file] = create_face_features_for_image_file(efficient_net_model, image_file)\n",
        "    return image_files_to_face_features\n",
        "\n",
        "\n",
        "def create_face_features_pair(face_features_1, face_features_2):\n",
        "    return np.concatenate((face_features_1, face_features_2), axis=1)\n",
        "\n",
        "\n",
        "def create_face_features_pairs(image_file_pairs, image_file_to_face_features):\n",
        "    face_features_pairs = []\n",
        "    for image_file_pair in image_file_pairs:\n",
        "        face_features_1 = image_file_to_face_features[image_file_pair[0]]\n",
        "        face_features_2 = image_file_to_face_features[image_file_pair[1]]\n",
        "        face_features_pairs.append(create_face_features_pair(face_features_1, face_features_2))\n",
        "    \n",
        "    face_features_pairs = np.stack(face_features_pairs, axis=0)\n",
        "    face_features_pairs = np.array(face_features_pairs).reshape(len(image_file_pairs), -1)\n",
        "    return face_features_pairs\n",
        "\n",
        "    "
      ],
      "metadata": {
        "id": "T4Sb7FEL5RWA"
      },
      "execution_count": null,
      "outputs": []
    },
    {
      "cell_type": "code",
      "source": [
        "# Load image paths into DataFrame and group them by their pet ID\n",
        "df = []\n",
        "for images_path, pet_type_id in [(cat_images_path, cat_pet_type_id), (dog_images_path, dog_pet_type_id)]:\n",
        "    image_files = glob.glob(images_path + '/*.jpg')\n",
        "    print(f'Pet type ID {pet_type_id} images = {len(image_files)}')\n",
        "\n",
        "    df_temp = pd.DataFrame(data={'image_file': image_files})\n",
        "    df_temp['pet_id'] = df_temp['image_file'].apply(lambda x: x.split('/')[-1].split('-')[0])\n",
        "    df_temp['pet_type_id'] = pet_type_id\n",
        "    \n",
        "    df.append(df_temp)\n",
        "\n",
        "df = pd.concat(df, ignore_index=True)\n",
        "\n",
        "df = groupby_pet_id(df)\n",
        "print(f'Total pets = {len(df)}')\n",
        "\n",
        "# Split the images into train and test by the index of \n",
        "df_indexes = df.index.to_numpy()\n",
        "np.random.shuffle(df_indexes)\n",
        "\n",
        "train_df_indexes, test_df_indexes = np.split(df_indexes, [int(train_split * len(df_indexes))]) \n",
        "train_df = df.iloc[train_df_indexes].reset_index(drop=True)\n",
        "test_df = df.iloc[test_df_indexes].reset_index(drop=True)\n",
        "\n",
        "print(f'Total train pets = {len(train_df)}, total test pets = {len(test_df)}')"
      ],
      "metadata": {
        "id": "lXciDEECZL4Z",
        "colab": {
          "base_uri": "https://localhost:8080/"
        },
        "outputId": "8617b222-12b5-4107-b364-38dba07b5ee5"
      },
      "execution_count": null,
      "outputs": [
        {
          "output_type": "stream",
          "name": "stdout",
          "text": [
            "Pet type ID 1 images = 14067\n",
            "Pet type ID 2 images = 8363\n",
            "Total pets = 4433\n",
            "Total train pets = 3103, total test pets = 1330\n"
          ]
        }
      ]
    },
    {
      "cell_type": "code",
      "source": [
        "def get_same_pet_pair(df, pet_type_id):\n",
        "    pet = df[df['pet_type_id'] == pet_type_id].sample().iloc[0]\n",
        "    return sorted(list(np.random.choice(pet['image_files'], 2)))\n",
        "\n",
        "\n",
        "def get_different_pet_pair(df, pet_type_ids):\n",
        "    pet_1 = df[df['pet_type_id'] == pet_type_ids[0]].sample().iloc[0]\n",
        "    while True:\n",
        "        pet_2 = df[df['pet_type_id'] == pet_type_ids[1]].sample().iloc[0]\n",
        "        if pet_1['pet_id'] != pet_2['pet_id']:\n",
        "            break\n",
        "            \n",
        "    return sorted([np.random.choice(pet_1['image_files'], 1)[0], np.random.choice(pet_2['image_files'], 1)[0]])\n",
        "    \n",
        "\n",
        "\n",
        "def create_image_pairs(df, num_pairs, same_pair_split):\n",
        "    assert same_pair_split > 0 and same_pair_split < 1\n",
        "\n",
        "    x = []\n",
        "    y = []\n",
        "\n",
        "    for i in range(num_pairs):\n",
        "        if random.random() < same_pair_split:\n",
        "            # Get same pair\n",
        "            same_pet_type_id = np.random.choice(pet_type_ids)\n",
        "            while True:\n",
        "                same_pet_pair = get_same_pet_pair(df, same_pet_type_id)\n",
        "                if same_pet_pair not in x:\n",
        "                    break\n",
        "\n",
        "            x.append(same_pet_pair)\n",
        "            y.append(same_pet)\n",
        "        else:\n",
        "            # Get different pair\n",
        "            different_pet_type_ids = [np.random.choice(pet_type_ids), np.random.choice(pet_type_ids)]\n",
        "            while True:\n",
        "                different_pet_pair = get_different_pet_pair(df, different_pet_type_ids)\n",
        "                if different_pet_pair not in x:\n",
        "                    break\n",
        "\n",
        "            x.append(different_pet_pair)\n",
        "            y.append(different_pet)\n",
        "\n",
        "    return x, y\n",
        "        \n",
        "\n"
      ],
      "metadata": {
        "id": "uwEJVAHYAOob"
      },
      "execution_count": null,
      "outputs": []
    },
    {
      "cell_type": "code",
      "source": [
        "x_train, y_train = create_image_pairs(train_df, 15000, 0.5)\n",
        "x_test, y_test = create_image_pairs(test_df, 5000, 0.5)"
      ],
      "metadata": {
        "id": "hNp5mCKNXDgp"
      },
      "execution_count": null,
      "outputs": []
    },
    {
      "cell_type": "code",
      "source": [
        "len(x_train), len(y_train), (np.array(y_train) == 0).sum() * 2, len(x_test), len(y_test), (np.array(y_test) == 0).sum() * 2"
      ],
      "metadata": {
        "id": "a4_T1fIGkewt",
        "colab": {
          "base_uri": "https://localhost:8080/"
        },
        "outputId": "205819af-1427-4913-82e3-0b656d85139a"
      },
      "execution_count": null,
      "outputs": [
        {
          "output_type": "execute_result",
          "data": {
            "text/plain": [
              "(15000, 15000, 15020, 5000, 5000, 5118)"
            ]
          },
          "metadata": {},
          "execution_count": 12
        }
      ]
    },
    {
      "cell_type": "code",
      "source": [
        "from tensorflow.keras.applications.efficientnet import EfficientNetB2\n",
        "from tensorflow.keras.layers import MaxPooling2D, GlobalMaxPool2D, GlobalAveragePooling2D, AveragePooling2D\n",
        "\n",
        "base_efficient_net_model = EfficientNetB2(weights='imagenet', pooling = 'max')\n",
        "base_efficient_net_model = Model(base_efficient_net_model.input, base_efficient_net_model.layers[-4].output)\n",
        "base_efficient_net_model.trainable = False\n",
        "x = base_efficient_net_model.output\n",
        "x = AveragePooling2D(pool_size=(2, 2), strides= (1, 1), padding='valid')(x)\n",
        "x = GlobalAveragePooling2D()(x)\n",
        "norm_layer = Lambda(lambda x: K.l2_normalize(x, axis=1), name='norm_layer')(x)\n",
        "efficient_net_model = Model(inputs=base_efficient_net_model.input, outputs=norm_layer)"
      ],
      "metadata": {
        "id": "J21vOxl-_ujB",
        "colab": {
          "base_uri": "https://localhost:8080/"
        },
        "outputId": "037ad8ff-b62e-4090-9add-dbac50819915"
      },
      "execution_count": null,
      "outputs": [
        {
          "output_type": "stream",
          "name": "stdout",
          "text": [
            "Downloading data from https://storage.googleapis.com/keras-applications/efficientnetb2.h5\n",
            "37437440/37432240 [==============================] - 0s 0us/step\n",
            "37445632/37432240 [==============================] - 0s 0us/step\n"
          ]
        }
      ]
    },
    {
      "cell_type": "code",
      "source": [
        "image_files = image_paths_to_image_files([cat_images_path, dog_images_path])\n",
        "image_files_to_face_features = create_face_features_for_image_files(efficient_net_model, image_files)"
      ],
      "metadata": {
        "id": "hpnH08-CXZfG"
      },
      "execution_count": null,
      "outputs": []
    },
    {
      "cell_type": "code",
      "source": [
        "x_train_face_features_pairs = create_face_features_pairs(x_train, image_files_to_face_features)\n",
        "x_test_face_features_pairs = create_face_features_pairs(x_test, image_files_to_face_features)"
      ],
      "metadata": {
        "id": "tfTqK2Mt3ip4"
      },
      "execution_count": null,
      "outputs": []
    },
    {
      "cell_type": "code",
      "source": [
        "x_train[1]"
      ],
      "metadata": {
        "id": "pf-1cwgRk2cZ",
        "colab": {
          "base_uri": "https://localhost:8080/"
        },
        "outputId": "afb0d5da-ea6a-40c0-8f61-a1696cb6c3f8"
      },
      "execution_count": null,
      "outputs": [
        {
          "output_type": "execute_result",
          "data": {
            "text/plain": [
              "['/content/CatFace/Images/fb751ef23-1.jpg',\n",
              " '/content/CatFace/Images/fb751ef23-4.jpg']"
            ]
          },
          "metadata": {},
          "execution_count": 16
        }
      ]
    },
    {
      "cell_type": "code",
      "source": [
        "y_train[1]"
      ],
      "metadata": {
        "id": "xaacoHNvk5gB",
        "colab": {
          "base_uri": "https://localhost:8080/"
        },
        "outputId": "ae2cc4cf-d5fc-4ce7-90aa-ea2d5f9fb1f3"
      },
      "execution_count": null,
      "outputs": [
        {
          "output_type": "execute_result",
          "data": {
            "text/plain": [
              "1"
            ]
          },
          "metadata": {},
          "execution_count": 17
        }
      ]
    },
    {
      "cell_type": "code",
      "source": [
        "pca = PCA(0.90)\n",
        "x_train_face_features_pairs = pca.fit_transform(x_train_face_features_pairs)\n",
        "x_test_face_features_pairs = pca.transform(x_test_face_features_pairs)"
      ],
      "metadata": {
        "id": "Pc2PCQogdS4Y"
      },
      "execution_count": null,
      "outputs": []
    },
    {
      "cell_type": "code",
      "source": [
        "x_train_face_features_pairs.shape"
      ],
      "metadata": {
        "id": "2QFlw_e9up4G",
        "colab": {
          "base_uri": "https://localhost:8080/"
        },
        "outputId": "a852eac4-b5a0-4529-f1a1-012f48353bad"
      },
      "execution_count": null,
      "outputs": [
        {
          "output_type": "execute_result",
          "data": {
            "text/plain": [
              "(15000, 591)"
            ]
          },
          "metadata": {},
          "execution_count": 19
        }
      ]
    },
    {
      "cell_type": "markdown",
      "source": [
        "0 = different pet, 1 = same pet"
      ],
      "metadata": {
        "id": "FXmzr1yFYAqZ"
      }
    },
    {
      "cell_type": "code",
      "source": [
        "svc = SVC(probability=True)\n",
        "pred = svc.fit(x_train_face_features_pairs, y_train)"
      ],
      "metadata": {
        "id": "MjFMgdm9_ulb"
      },
      "execution_count": null,
      "outputs": []
    },
    {
      "cell_type": "code",
      "source": [
        "efficient_net_model.save(remote_path + '/Models/EfficientNet')\n",
        "pk.dump(pca, open(remote_path + '/Models/PCA.pkl','wb'))\n",
        "pk.dump(svc, open(remote_path + '/Models/SVC.pkl','wb'))"
      ],
      "metadata": {
        "id": "5abytyFMzHGn",
        "colab": {
          "base_uri": "https://localhost:8080/"
        },
        "outputId": "413120b8-06fb-4986-b3f4-523be966c6cc"
      },
      "execution_count": null,
      "outputs": [
        {
          "output_type": "stream",
          "name": "stderr",
          "text": [
            "WARNING:tensorflow:Compiled the loaded model, but the compiled metrics have yet to be built. `model.compile_metrics` will be empty until you train or evaluate the model.\n"
          ]
        }
      ]
    },
    {
      "cell_type": "code",
      "source": [
        "from sklearn.metrics import RocCurveDisplay, ConfusionMatrixDisplay, DetCurveDisplay, PrecisionRecallDisplay"
      ],
      "metadata": {
        "id": "bh7frbgZPbhG"
      },
      "execution_count": null,
      "outputs": []
    },
    {
      "cell_type": "code",
      "source": [
        "pred_test = svc.predict_proba(x_test_face_features_pairs)\n",
        "pred_y_test = np.round(pred_test[:,1])"
      ],
      "metadata": {
        "id": "Q7OnuAZPPdr1"
      },
      "execution_count": null,
      "outputs": []
    },
    {
      "cell_type": "code",
      "source": [
        "roc_curve_display_test = RocCurveDisplay.from_predictions(y_test, pred_test[:,1])"
      ],
      "metadata": {
        "id": "kVezsOphRo1y",
        "colab": {
          "base_uri": "https://localhost:8080/",
          "height": 279
        },
        "outputId": "687810a0-1227-482c-c80e-4a7ec85f3d25"
      },
      "execution_count": null,
      "outputs": [
        {
          "output_type": "display_data",
          "data": {
            "text/plain": [
              "<Figure size 432x288 with 1 Axes>"
            ],
            "image/png": "[encoded data removed]"
          },
          "metadata": {
            "needs_background": "light"
          }
        }
      ]
    },
    {
      "cell_type": "code",
      "source": [
        "confusion_matrix_display_test = ConfusionMatrixDisplay.from_predictions(y_test, pred_y_test)"
      ],
      "metadata": {
        "id": "Ef7wJYLORt53",
        "colab": {
          "base_uri": "https://localhost:8080/",
          "height": 279
        },
        "outputId": "e2a4782b-6c9f-4082-e483-5e440514b3ae"
      },
      "execution_count": null,
      "outputs": [
        {
          "output_type": "display_data",
          "data": {
            "text/plain": [
              "<Figure size 432x288 with 2 Axes>"
            ],
            "image/png": "[encoded data removed]"
          },
          "metadata": {
            "needs_background": "light"
          }
        }
      ]
    },
    {
      "cell_type": "code",
      "source": [
        "det_curve_display_test = DetCurveDisplay.from_predictions(y_test, pred_test[:,1])"
      ],
      "metadata": {
        "id": "JTlEKv9Hvl7m",
        "colab": {
          "base_uri": "https://localhost:8080/",
          "height": 279
        },
        "outputId": "a05fef6c-4093-4fef-a5e7-4194dfa3b159"
      },
      "execution_count": null,
      "outputs": [
        {
          "output_type": "display_data",
          "data": {
            "text/plain": [
              "<Figure size 432x288 with 1 Axes>"
            ],
            "image/png": "[encoded data removed]"
          },
          "metadata": {
            "needs_background": "light"
          }
        }
      ]
    },
    {
      "cell_type": "code",
      "source": [
        "precision_recall_display_test = PrecisionRecallDisplay.from_predictions(y_test, pred_test[:,1])"
      ],
      "metadata": {
        "id": "G4Hw4rSEvl42",
        "colab": {
          "base_uri": "https://localhost:8080/",
          "height": 279
        },
        "outputId": "8cc6bef2-7afd-4e26-ecee-fa78f0a06b8c"
      },
      "execution_count": null,
      "outputs": [
        {
          "output_type": "display_data",
          "data": {
            "text/plain": [
              "<Figure size 432x288 with 1 Axes>"
            ],
            "image/png": "[encoded data removed]"
          },
          "metadata": {
            "needs_background": "light"
          }
        }
      ]
    },
    {
      "cell_type": "code",
      "source": [
        "pred_train = svc.predict_proba(x_train_face_features_pairs)\n",
        "pred_y_train = np.round(pred_train[:,1])"
      ],
      "metadata": {
        "id": "oPEGVs1wvl1b"
      },
      "execution_count": null,
      "outputs": []
    },
    {
      "cell_type": "code",
      "source": [
        "roc_curve_display_train = RocCurveDisplay.from_predictions(y_train, pred_train[:,1])"
      ],
      "metadata": {
        "id": "r06x8DUBvlsz",
        "colab": {
          "base_uri": "https://localhost:8080/",
          "height": 279
        },
        "outputId": "57e1fee1-000b-44a4-c9d1-6db7c28c120c"
      },
      "execution_count": null,
      "outputs": [
        {
          "output_type": "display_data",
          "data": {
            "text/plain": [
              "<Figure size 432x288 with 1 Axes>"
            ],
            "image/png": "[encoded data removed]"
          },
          "metadata": {
            "needs_background": "light"
          }
        }
      ]
    },
    {
      "cell_type": "code",
      "source": [
        "confusion_matrix_display_train = ConfusionMatrixDisplay.from_predictions(y_train, pred_y_train)"
      ],
      "metadata": {
        "id": "su4bPSYlvlhD",
        "colab": {
          "base_uri": "https://localhost:8080/",
          "height": 279
        },
        "outputId": "72a2bb58-144a-4eda-be13-d25826021d1f"
      },
      "execution_count": null,
      "outputs": [
        {
          "output_type": "display_data",
          "data": {
            "text/plain": [
              "<Figure size 432x288 with 2 Axes>"
            ],
            "image/png": "[encoded data removed]"
          },
          "metadata": {
            "needs_background": "light"
          }
        }
      ]
    },
    {
      "cell_type": "code",
      "source": [
        "det_curve_display_train = DetCurveDisplay.from_predictions(y_train, pred_train[:,1])"
      ],
      "metadata": {
        "id": "JtnI3PRuv7Fx",
        "colab": {
          "base_uri": "https://localhost:8080/",
          "height": 279
        },
        "outputId": "48bacee7-05b8-4735-fb40-df29082fe64f"
      },
      "execution_count": null,
      "outputs": [
        {
          "output_type": "display_data",
          "data": {
            "text/plain": [
              "<Figure size 432x288 with 1 Axes>"
            ],
            "image/png": "[encoded data removed]"
          },
          "metadata": {
            "needs_background": "light"
          }
        }
      ]
    },
    {
      "cell_type": "code",
      "source": [
        "precision_recall_display_train = PrecisionRecallDisplay.from_predictions(y_train, pred_train[:,1])"
      ],
      "metadata": {
        "id": "RYAeyZFkv9lA",
        "colab": {
          "base_uri": "https://localhost:8080/",
          "height": 279
        },
        "outputId": "9b3a3b8c-10d4-4e43-d079-60aedf6d8421"
      },
      "execution_count": null,
      "outputs": [
        {
          "output_type": "display_data",
          "data": {
            "text/plain": [
              "<Figure size 432x288 with 1 Axes>"
            ],
            "image/png": "[encoded data removed]"
          },
          "metadata": {
            "needs_background": "light"
          }
        }
      ]
    }
  ]
}